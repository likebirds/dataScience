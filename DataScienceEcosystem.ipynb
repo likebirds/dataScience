{
 "cells": [
  {
   "cell_type": "markdown",
   "id": "20deef30-3b0f-4f6a-8a35-d644f71a3754",
   "metadata": {},
   "source": [
    "# Data Science Tools and Ecosystem"
   ]
  },
  {
   "cell_type": "markdown",
   "id": "bd525017-d6cc-4231-9a9a-16684b9476ca",
   "metadata": {},
   "source": [
    "## In this notebook, Data Science Tools and Ecosystem are summarized."
   ]
  },
  {
   "cell_type": "markdown",
   "id": "bd4dfdb7-2d4c-49e0-b8c6-db5a4cd434c6",
   "metadata": {},
   "source": [
    "**Objectives:** \n",
    "Understand tools available for Data Science\n",
    "Learn about R\n",
    "Learn about Python\n",
    "### List popular languages for Data Science\n",
    "- R\n",
    "- Python\n",
    "- Java"
   ]
  },
  {
   "cell_type": "markdown",
   "id": "c1ca1ed3-e3f5-41d4-855e-777b1e5f633b",
   "metadata": {},
   "source": [
    "### Some of the popular languages that Data Scientists use are:\n",
    "1. R\n",
    "2. Python\n",
    "3. Java"
   ]
  },
  {
   "cell_type": "markdown",
   "id": "37710903-7180-49fa-8cca-9376f982e4a0",
   "metadata": {},
   "source": [
    "### Some of the commonly used libraries used by Data Scientists include:\n",
    "1. NumPy\n",
    "2. Pandas\n",
    "3. SciPy\n",
    "4. Matplotlib\n",
    "\n"
   ]
  },
  {
   "cell_type": "markdown",
   "id": "92ea5d18-da9d-4700-a3a2-e8c8ad3de3ed",
   "metadata": {},
   "source": [
    "|Data Science Tools|\n",
    "|------------------|\n",
    "|Python|\n",
    "|Matplotlib|\n",
    "|TensorFlow|"
   ]
  },
  {
   "cell_type": "markdown",
   "id": "a92a5dde-5a36-4cb6-b488-6ec550f83421",
   "metadata": {},
   "source": [
    "### Below are a few examples of evaluating arithmetic expressions in Python\n",
    "5+6\n"
   ]
  },
  {
   "cell_type": "code",
   "execution_count": 1,
   "id": "056e3e01-fe0b-4a12-aee4-e4e88ffedd9e",
   "metadata": {},
   "outputs": [
    {
     "data": {
      "text/plain": [
       "17"
      ]
     },
     "execution_count": 1,
     "metadata": {},
     "output_type": "execute_result"
    }
   ],
   "source": [
    "# This a simple arithmetic expression to mutiply then add integers\n",
    "(3*4)+5"
   ]
  },
  {
   "cell_type": "code",
   "execution_count": 2,
   "id": "3f15e4d9-2607-419a-bdca-bb290cd1045f",
   "metadata": {},
   "outputs": [
    {
     "data": {
      "text/plain": [
       "3.3333333333333335"
      ]
     },
     "execution_count": 2,
     "metadata": {},
     "output_type": "execute_result"
    }
   ],
   "source": [
    "# This will convert 200 minutes to hours by diving by 60\n",
    "200/60\n"
   ]
  },
  {
   "cell_type": "markdown",
   "id": "e6813b15-380b-4ed8-af09-38dbf4ed40f0",
   "metadata": {},
   "source": [
    "## Author\n",
    "Jonathan Limo"
   ]
  },
  {
   "cell_type": "code",
   "execution_count": null,
   "id": "992178c0-a033-409a-a24e-ab2da8c945bd",
   "metadata": {},
   "outputs": [],
   "source": []
  }
 ],
 "metadata": {
  "kernelspec": {
   "display_name": "Python 3 (ipykernel)",
   "language": "python",
   "name": "python3"
  },
  "language_info": {
   "codemirror_mode": {
    "name": "ipython",
    "version": 3
   },
   "file_extension": ".py",
   "mimetype": "text/x-python",
   "name": "python",
   "nbconvert_exporter": "python",
   "pygments_lexer": "ipython3",
   "version": "3.11.7"
  }
 },
 "nbformat": 4,
 "nbformat_minor": 5
}
